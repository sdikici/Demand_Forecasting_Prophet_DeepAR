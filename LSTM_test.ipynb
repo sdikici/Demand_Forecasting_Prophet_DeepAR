{
  "nbformat": 4,
  "nbformat_minor": 0,
  "metadata": {
    "colab": {
      "provenance": [],
      "machine_shape": "hm",
      "authorship_tag": "ABX9TyPnoLVrXjC3SZXbzQv4Pafe",
      "include_colab_link": true
    },
    "kernelspec": {
      "name": "python3",
      "display_name": "Python 3"
    },
    "language_info": {
      "name": "python"
    }
  },
  "cells": [
    {
      "cell_type": "markdown",
      "metadata": {
        "id": "view-in-github",
        "colab_type": "text"
      },
      "source": [
        "<a href=\"https://colab.research.google.com/github/sdikici/Demand_Forecasting_Prophet_DeepAR/blob/main/LSTM_test.ipynb\" target=\"_parent\"><img src=\"https://colab.research.google.com/assets/colab-badge.svg\" alt=\"Open In Colab\"/></a>"
      ]
    },
    {
      "cell_type": "code",
      "execution_count": null,
      "metadata": {
        "id": "dw2uj8YSFDgA"
      },
      "outputs": [],
      "source": [
        "! mkdir ~/.kaggle\n",
        "! cp kaggle.json ~/.kaggle/\n",
        "! chmod 600 ~/.kaggle/kaggle.json"
      ]
    },
    {
      "cell_type": "code",
      "source": [
        "!kaggle datasets download -d sercandikici/merged-dataset-electricty-weather-for-modelling\n",
        "! unzip merged-dataset-electricty-weather-for-modelling.zip"
      ],
      "metadata": {
        "colab": {
          "base_uri": "https://localhost:8080/"
        },
        "id": "neYx1a3OFi_p",
        "outputId": "b892414e-8b91-4231-bdb4-09289fd9566e"
      },
      "execution_count": null,
      "outputs": [
        {
          "output_type": "stream",
          "name": "stdout",
          "text": [
            "Dataset URL: https://www.kaggle.com/datasets/sercandikici/merged-dataset-electricty-weather-for-modelling\n",
            "License(s): unknown\n",
            "Downloading merged-dataset-electricty-weather-for-modelling.zip to /content\n",
            "100% 104k/104k [00:00<00:00, 390kB/s]\n",
            "100% 104k/104k [00:00<00:00, 390kB/s]\n",
            "Archive:  merged-dataset-electricty-weather-for-modelling.zip\n",
            "  inflating: merged_data.csv         \n"
          ]
        }
      ]
    },
    {
      "cell_type": "code",
      "source": [
        "import numpy as np\n",
        "import pandas as pd\n",
        "import matplotlib.pyplot as plt\n",
        "from tensorflow.keras.models import Sequential\n",
        "from tensorflow.keras.layers import LSTM, Dense, Dropout,GRU, Bidirectional\n",
        "from sklearn.preprocessing import MinMaxScaler\n",
        "from tensorflow.keras.callbacks import EarlyStopping\n",
        "from tensorflow.keras.optimizers import Adam\n",
        "from sklearn.metrics import mean_squared_error, mean_absolute_error, r2_score\n"
      ],
      "metadata": {
        "id": "_8Upx4cyFmho"
      },
      "execution_count": null,
      "outputs": []
    },
    {
      "cell_type": "code",
      "source": [
        "def mean_absolute_percentage_error(y_true, y_pred):\n",
        "    '''Calculate and return the Mean Absolute Percentage Error (MAPE) between actual values (y_true) and predicted values (y_pred).'''\n",
        "    y_true, y_pred = np.array(y_true), np.array(y_pred)\n",
        "    mape = np.mean(np.abs((y_true - y_pred) / y_true))\n",
        "    return mape\n",
        "\n",
        "def root_mean_squared_error(y_true, y_pred):\n",
        "    '''Calculate and return the Root Mean Squared Error (RMSE) between actual values (y_true) and predicted values (y_pred).'''\n",
        "    y_true, y_pred = np.array(y_true), np.array(y_pred)\n",
        "    mse = np.mean((y_true - y_pred) ** 2)\n",
        "    rmse = np.sqrt(mse)\n",
        "    return rmse\n",
        "\n",
        "def r_squared(y_true, y_pred):\n",
        "    '''Calculate and return the coefficient of determination (R-squared) value showing the proportion of variance in the dependent variable predictable from the independent variable.'''\n",
        "    y_true, y_pred = np.array(y_true), np.array(y_pred)\n",
        "    mean_y_true = np.mean(y_true)\n",
        "    ss_total = np.sum((y_true - mean_y_true) ** 2)\n",
        "    ss_residual = np.sum((y_true - y_pred) ** 2)\n",
        "    r2 = 1 - (ss_residual / ss_total)\n",
        "    return r2"
      ],
      "metadata": {
        "id": "OLlo8snqFnDn"
      },
      "execution_count": null,
      "outputs": []
    },
    {
      "cell_type": "code",
      "source": [
        "'''\n",
        "Read the CSV file 'merged_data.csv' into a DataFrame and assign it to df_merged.\n",
        "Convert the 'settlement_date' column to datetime format.\n",
        "'''\n",
        "df_merged = pd.read_csv(\"merged_data.csv\")\n",
        "df_merged['settlement_date'] = pd.to_datetime(df_merged['settlement_date'])\n",
        "df_merged"
      ],
      "metadata": {
        "colab": {
          "base_uri": "https://localhost:8080/",
          "height": 423
        },
        "id": "4My2GrRoFrDO",
        "outputId": "62ac9409-2f20-4753-c1ce-56ee99fce387"
      },
      "execution_count": null,
      "outputs": [
        {
          "output_type": "execute_result",
          "data": {
            "text/plain": [
              "          settlement_date       tsd  is_holiday  temp\n",
              "0     2021-01-01 00:00:00  28552.00         1.0  1.55\n",
              "1     2021-01-01 02:00:00  26579.75         1.0  1.60\n",
              "2     2021-01-01 04:00:00  25236.00         1.0  0.55\n",
              "3     2021-01-01 06:00:00  25792.25         1.0 -0.35\n",
              "4     2021-01-01 08:00:00  28162.75         1.0 -0.10\n",
              "...                   ...       ...         ...   ...\n",
              "13136 2023-12-31 16:00:00  34006.00         0.0  7.60\n",
              "13137 2023-12-31 18:00:00  32273.00         0.0  8.20\n",
              "13138 2023-12-31 20:00:00  27456.50         0.0  8.45\n",
              "13139 2023-12-31 22:00:00  24139.25         0.0  8.35\n",
              "13140 2024-01-01 00:00:00  23466.00         1.0  8.60\n",
              "\n",
              "[13141 rows x 4 columns]"
            ],
            "text/html": [
              "\n",
              "  <div id=\"df-051d3161-ab60-45bb-8f70-69708c078aac\" class=\"colab-df-container\">\n",
              "    <div>\n",
              "<style scoped>\n",
              "    .dataframe tbody tr th:only-of-type {\n",
              "        vertical-align: middle;\n",
              "    }\n",
              "\n",
              "    .dataframe tbody tr th {\n",
              "        vertical-align: top;\n",
              "    }\n",
              "\n",
              "    .dataframe thead th {\n",
              "        text-align: right;\n",
              "    }\n",
              "</style>\n",
              "<table border=\"1\" class=\"dataframe\">\n",
              "  <thead>\n",
              "    <tr style=\"text-align: right;\">\n",
              "      <th></th>\n",
              "      <th>settlement_date</th>\n",
              "      <th>tsd</th>\n",
              "      <th>is_holiday</th>\n",
              "      <th>temp</th>\n",
              "    </tr>\n",
              "  </thead>\n",
              "  <tbody>\n",
              "    <tr>\n",
              "      <th>0</th>\n",
              "      <td>2021-01-01 00:00:00</td>\n",
              "      <td>28552.00</td>\n",
              "      <td>1.0</td>\n",
              "      <td>1.55</td>\n",
              "    </tr>\n",
              "    <tr>\n",
              "      <th>1</th>\n",
              "      <td>2021-01-01 02:00:00</td>\n",
              "      <td>26579.75</td>\n",
              "      <td>1.0</td>\n",
              "      <td>1.60</td>\n",
              "    </tr>\n",
              "    <tr>\n",
              "      <th>2</th>\n",
              "      <td>2021-01-01 04:00:00</td>\n",
              "      <td>25236.00</td>\n",
              "      <td>1.0</td>\n",
              "      <td>0.55</td>\n",
              "    </tr>\n",
              "    <tr>\n",
              "      <th>3</th>\n",
              "      <td>2021-01-01 06:00:00</td>\n",
              "      <td>25792.25</td>\n",
              "      <td>1.0</td>\n",
              "      <td>-0.35</td>\n",
              "    </tr>\n",
              "    <tr>\n",
              "      <th>4</th>\n",
              "      <td>2021-01-01 08:00:00</td>\n",
              "      <td>28162.75</td>\n",
              "      <td>1.0</td>\n",
              "      <td>-0.10</td>\n",
              "    </tr>\n",
              "    <tr>\n",
              "      <th>...</th>\n",
              "      <td>...</td>\n",
              "      <td>...</td>\n",
              "      <td>...</td>\n",
              "      <td>...</td>\n",
              "    </tr>\n",
              "    <tr>\n",
              "      <th>13136</th>\n",
              "      <td>2023-12-31 16:00:00</td>\n",
              "      <td>34006.00</td>\n",
              "      <td>0.0</td>\n",
              "      <td>7.60</td>\n",
              "    </tr>\n",
              "    <tr>\n",
              "      <th>13137</th>\n",
              "      <td>2023-12-31 18:00:00</td>\n",
              "      <td>32273.00</td>\n",
              "      <td>0.0</td>\n",
              "      <td>8.20</td>\n",
              "    </tr>\n",
              "    <tr>\n",
              "      <th>13138</th>\n",
              "      <td>2023-12-31 20:00:00</td>\n",
              "      <td>27456.50</td>\n",
              "      <td>0.0</td>\n",
              "      <td>8.45</td>\n",
              "    </tr>\n",
              "    <tr>\n",
              "      <th>13139</th>\n",
              "      <td>2023-12-31 22:00:00</td>\n",
              "      <td>24139.25</td>\n",
              "      <td>0.0</td>\n",
              "      <td>8.35</td>\n",
              "    </tr>\n",
              "    <tr>\n",
              "      <th>13140</th>\n",
              "      <td>2024-01-01 00:00:00</td>\n",
              "      <td>23466.00</td>\n",
              "      <td>1.0</td>\n",
              "      <td>8.60</td>\n",
              "    </tr>\n",
              "  </tbody>\n",
              "</table>\n",
              "<p>13141 rows × 4 columns</p>\n",
              "</div>\n",
              "    <div class=\"colab-df-buttons\">\n",
              "\n",
              "  <div class=\"colab-df-container\">\n",
              "    <button class=\"colab-df-convert\" onclick=\"convertToInteractive('df-051d3161-ab60-45bb-8f70-69708c078aac')\"\n",
              "            title=\"Convert this dataframe to an interactive table.\"\n",
              "            style=\"display:none;\">\n",
              "\n",
              "  <svg xmlns=\"http://www.w3.org/2000/svg\" height=\"24px\" viewBox=\"0 -960 960 960\">\n",
              "    <path d=\"M120-120v-720h720v720H120Zm60-500h600v-160H180v160Zm220 220h160v-160H400v160Zm0 220h160v-160H400v160ZM180-400h160v-160H180v160Zm440 0h160v-160H620v160ZM180-180h160v-160H180v160Zm440 0h160v-160H620v160Z\"/>\n",
              "  </svg>\n",
              "    </button>\n",
              "\n",
              "  <style>\n",
              "    .colab-df-container {\n",
              "      display:flex;\n",
              "      gap: 12px;\n",
              "    }\n",
              "\n",
              "    .colab-df-convert {\n",
              "      background-color: #E8F0FE;\n",
              "      border: none;\n",
              "      border-radius: 50%;\n",
              "      cursor: pointer;\n",
              "      display: none;\n",
              "      fill: #1967D2;\n",
              "      height: 32px;\n",
              "      padding: 0 0 0 0;\n",
              "      width: 32px;\n",
              "    }\n",
              "\n",
              "    .colab-df-convert:hover {\n",
              "      background-color: #E2EBFA;\n",
              "      box-shadow: 0px 1px 2px rgba(60, 64, 67, 0.3), 0px 1px 3px 1px rgba(60, 64, 67, 0.15);\n",
              "      fill: #174EA6;\n",
              "    }\n",
              "\n",
              "    .colab-df-buttons div {\n",
              "      margin-bottom: 4px;\n",
              "    }\n",
              "\n",
              "    [theme=dark] .colab-df-convert {\n",
              "      background-color: #3B4455;\n",
              "      fill: #D2E3FC;\n",
              "    }\n",
              "\n",
              "    [theme=dark] .colab-df-convert:hover {\n",
              "      background-color: #434B5C;\n",
              "      box-shadow: 0px 1px 3px 1px rgba(0, 0, 0, 0.15);\n",
              "      filter: drop-shadow(0px 1px 2px rgba(0, 0, 0, 0.3));\n",
              "      fill: #FFFFFF;\n",
              "    }\n",
              "  </style>\n",
              "\n",
              "    <script>\n",
              "      const buttonEl =\n",
              "        document.querySelector('#df-051d3161-ab60-45bb-8f70-69708c078aac button.colab-df-convert');\n",
              "      buttonEl.style.display =\n",
              "        google.colab.kernel.accessAllowed ? 'block' : 'none';\n",
              "\n",
              "      async function convertToInteractive(key) {\n",
              "        const element = document.querySelector('#df-051d3161-ab60-45bb-8f70-69708c078aac');\n",
              "        const dataTable =\n",
              "          await google.colab.kernel.invokeFunction('convertToInteractive',\n",
              "                                                    [key], {});\n",
              "        if (!dataTable) return;\n",
              "\n",
              "        const docLinkHtml = 'Like what you see? Visit the ' +\n",
              "          '<a target=\"_blank\" href=https://colab.research.google.com/notebooks/data_table.ipynb>data table notebook</a>'\n",
              "          + ' to learn more about interactive tables.';\n",
              "        element.innerHTML = '';\n",
              "        dataTable['output_type'] = 'display_data';\n",
              "        await google.colab.output.renderOutput(dataTable, element);\n",
              "        const docLink = document.createElement('div');\n",
              "        docLink.innerHTML = docLinkHtml;\n",
              "        element.appendChild(docLink);\n",
              "      }\n",
              "    </script>\n",
              "  </div>\n",
              "\n",
              "\n",
              "<div id=\"df-77f00597-63c6-4234-afb1-e72621c993df\">\n",
              "  <button class=\"colab-df-quickchart\" onclick=\"quickchart('df-77f00597-63c6-4234-afb1-e72621c993df')\"\n",
              "            title=\"Suggest charts\"\n",
              "            style=\"display:none;\">\n",
              "\n",
              "<svg xmlns=\"http://www.w3.org/2000/svg\" height=\"24px\"viewBox=\"0 0 24 24\"\n",
              "     width=\"24px\">\n",
              "    <g>\n",
              "        <path d=\"M19 3H5c-1.1 0-2 .9-2 2v14c0 1.1.9 2 2 2h14c1.1 0 2-.9 2-2V5c0-1.1-.9-2-2-2zM9 17H7v-7h2v7zm4 0h-2V7h2v10zm4 0h-2v-4h2v4z\"/>\n",
              "    </g>\n",
              "</svg>\n",
              "  </button>\n",
              "\n",
              "<style>\n",
              "  .colab-df-quickchart {\n",
              "      --bg-color: #E8F0FE;\n",
              "      --fill-color: #1967D2;\n",
              "      --hover-bg-color: #E2EBFA;\n",
              "      --hover-fill-color: #174EA6;\n",
              "      --disabled-fill-color: #AAA;\n",
              "      --disabled-bg-color: #DDD;\n",
              "  }\n",
              "\n",
              "  [theme=dark] .colab-df-quickchart {\n",
              "      --bg-color: #3B4455;\n",
              "      --fill-color: #D2E3FC;\n",
              "      --hover-bg-color: #434B5C;\n",
              "      --hover-fill-color: #FFFFFF;\n",
              "      --disabled-bg-color: #3B4455;\n",
              "      --disabled-fill-color: #666;\n",
              "  }\n",
              "\n",
              "  .colab-df-quickchart {\n",
              "    background-color: var(--bg-color);\n",
              "    border: none;\n",
              "    border-radius: 50%;\n",
              "    cursor: pointer;\n",
              "    display: none;\n",
              "    fill: var(--fill-color);\n",
              "    height: 32px;\n",
              "    padding: 0;\n",
              "    width: 32px;\n",
              "  }\n",
              "\n",
              "  .colab-df-quickchart:hover {\n",
              "    background-color: var(--hover-bg-color);\n",
              "    box-shadow: 0 1px 2px rgba(60, 64, 67, 0.3), 0 1px 3px 1px rgba(60, 64, 67, 0.15);\n",
              "    fill: var(--button-hover-fill-color);\n",
              "  }\n",
              "\n",
              "  .colab-df-quickchart-complete:disabled,\n",
              "  .colab-df-quickchart-complete:disabled:hover {\n",
              "    background-color: var(--disabled-bg-color);\n",
              "    fill: var(--disabled-fill-color);\n",
              "    box-shadow: none;\n",
              "  }\n",
              "\n",
              "  .colab-df-spinner {\n",
              "    border: 2px solid var(--fill-color);\n",
              "    border-color: transparent;\n",
              "    border-bottom-color: var(--fill-color);\n",
              "    animation:\n",
              "      spin 1s steps(1) infinite;\n",
              "  }\n",
              "\n",
              "  @keyframes spin {\n",
              "    0% {\n",
              "      border-color: transparent;\n",
              "      border-bottom-color: var(--fill-color);\n",
              "      border-left-color: var(--fill-color);\n",
              "    }\n",
              "    20% {\n",
              "      border-color: transparent;\n",
              "      border-left-color: var(--fill-color);\n",
              "      border-top-color: var(--fill-color);\n",
              "    }\n",
              "    30% {\n",
              "      border-color: transparent;\n",
              "      border-left-color: var(--fill-color);\n",
              "      border-top-color: var(--fill-color);\n",
              "      border-right-color: var(--fill-color);\n",
              "    }\n",
              "    40% {\n",
              "      border-color: transparent;\n",
              "      border-right-color: var(--fill-color);\n",
              "      border-top-color: var(--fill-color);\n",
              "    }\n",
              "    60% {\n",
              "      border-color: transparent;\n",
              "      border-right-color: var(--fill-color);\n",
              "    }\n",
              "    80% {\n",
              "      border-color: transparent;\n",
              "      border-right-color: var(--fill-color);\n",
              "      border-bottom-color: var(--fill-color);\n",
              "    }\n",
              "    90% {\n",
              "      border-color: transparent;\n",
              "      border-bottom-color: var(--fill-color);\n",
              "    }\n",
              "  }\n",
              "</style>\n",
              "\n",
              "  <script>\n",
              "    async function quickchart(key) {\n",
              "      const quickchartButtonEl =\n",
              "        document.querySelector('#' + key + ' button');\n",
              "      quickchartButtonEl.disabled = true;  // To prevent multiple clicks.\n",
              "      quickchartButtonEl.classList.add('colab-df-spinner');\n",
              "      try {\n",
              "        const charts = await google.colab.kernel.invokeFunction(\n",
              "            'suggestCharts', [key], {});\n",
              "      } catch (error) {\n",
              "        console.error('Error during call to suggestCharts:', error);\n",
              "      }\n",
              "      quickchartButtonEl.classList.remove('colab-df-spinner');\n",
              "      quickchartButtonEl.classList.add('colab-df-quickchart-complete');\n",
              "    }\n",
              "    (() => {\n",
              "      let quickchartButtonEl =\n",
              "        document.querySelector('#df-77f00597-63c6-4234-afb1-e72621c993df button');\n",
              "      quickchartButtonEl.style.display =\n",
              "        google.colab.kernel.accessAllowed ? 'block' : 'none';\n",
              "    })();\n",
              "  </script>\n",
              "</div>\n",
              "    </div>\n",
              "  </div>\n"
            ],
            "application/vnd.google.colaboratory.intrinsic+json": {
              "type": "dataframe",
              "variable_name": "df_merged",
              "summary": "{\n  \"name\": \"df_merged\",\n  \"rows\": 13141,\n  \"fields\": [\n    {\n      \"column\": \"settlement_date\",\n      \"properties\": {\n        \"dtype\": \"date\",\n        \"min\": \"2021-01-01 00:00:00\",\n        \"max\": \"2024-01-01 00:00:00\",\n        \"num_unique_values\": 13141,\n        \"samples\": [\n          \"2022-05-30 04:00:00\",\n          \"2022-11-07 14:00:00\",\n          \"2021-07-23 22:00:00\"\n        ],\n        \"semantic_type\": \"\",\n        \"description\": \"\"\n      }\n    },\n    {\n      \"column\": \"tsd\",\n      \"properties\": {\n        \"dtype\": \"number\",\n        \"std\": 5648.463148618055,\n        \"min\": 17001.75,\n        \"max\": 46542.5,\n        \"num_unique_values\": 12103,\n        \"samples\": [\n          31465.25,\n          28907.75,\n          27815.25\n        ],\n        \"semantic_type\": \"\",\n        \"description\": \"\"\n      }\n    },\n    {\n      \"column\": \"is_holiday\",\n      \"properties\": {\n        \"dtype\": \"number\",\n        \"std\": 0.15531236738943072,\n        \"min\": 0.0,\n        \"max\": 1.0,\n        \"num_unique_values\": 2,\n        \"samples\": [\n          0.0,\n          1.0\n        ],\n        \"semantic_type\": \"\",\n        \"description\": \"\"\n      }\n    },\n    {\n      \"column\": \"temp\",\n      \"properties\": {\n        \"dtype\": \"number\",\n        \"std\": 6.129732917118371,\n        \"min\": -4.1,\n        \"max\": 39.4,\n        \"num_unique_values\": 769,\n        \"samples\": [\n          32.45,\n          11.9\n        ],\n        \"semantic_type\": \"\",\n        \"description\": \"\"\n      }\n    }\n  ]\n}"
            }
          },
          "metadata": {},
          "execution_count": 328
        }
      ]
    },
    {
      "cell_type": "code",
      "source": [
        "'''\n",
        "Create a new DataFrame df_model_1 by selecting the columns 'tsd' and 'settlement_date' from df_merged.\n",
        "Set the index of df_model_1 to the 'settlement_date' column.\n",
        "'''\n",
        "\n",
        "df_model_1 = df_merged[[\"tsd\",\"settlement_date\"]]\n",
        "df_model_1= df_model_1.set_index(\"settlement_date\")\n",
        "df_model_1"
      ],
      "metadata": {
        "colab": {
          "base_uri": "https://localhost:8080/",
          "height": 455
        },
        "id": "yxGEQU2cFvsA",
        "outputId": "596c2712-a479-417a-da9c-71b4148724de"
      },
      "execution_count": null,
      "outputs": [
        {
          "output_type": "execute_result",
          "data": {
            "text/plain": [
              "                          tsd\n",
              "settlement_date              \n",
              "2021-01-01 00:00:00  28552.00\n",
              "2021-01-01 02:00:00  26579.75\n",
              "2021-01-01 04:00:00  25236.00\n",
              "2021-01-01 06:00:00  25792.25\n",
              "2021-01-01 08:00:00  28162.75\n",
              "...                       ...\n",
              "2023-12-31 16:00:00  34006.00\n",
              "2023-12-31 18:00:00  32273.00\n",
              "2023-12-31 20:00:00  27456.50\n",
              "2023-12-31 22:00:00  24139.25\n",
              "2024-01-01 00:00:00  23466.00\n",
              "\n",
              "[13141 rows x 1 columns]"
            ],
            "text/html": [
              "\n",
              "  <div id=\"df-7b82a7c1-1a4d-4903-9df7-f32527dd6352\" class=\"colab-df-container\">\n",
              "    <div>\n",
              "<style scoped>\n",
              "    .dataframe tbody tr th:only-of-type {\n",
              "        vertical-align: middle;\n",
              "    }\n",
              "\n",
              "    .dataframe tbody tr th {\n",
              "        vertical-align: top;\n",
              "    }\n",
              "\n",
              "    .dataframe thead th {\n",
              "        text-align: right;\n",
              "    }\n",
              "</style>\n",
              "<table border=\"1\" class=\"dataframe\">\n",
              "  <thead>\n",
              "    <tr style=\"text-align: right;\">\n",
              "      <th></th>\n",
              "      <th>tsd</th>\n",
              "    </tr>\n",
              "    <tr>\n",
              "      <th>settlement_date</th>\n",
              "      <th></th>\n",
              "    </tr>\n",
              "  </thead>\n",
              "  <tbody>\n",
              "    <tr>\n",
              "      <th>2021-01-01 00:00:00</th>\n",
              "      <td>28552.00</td>\n",
              "    </tr>\n",
              "    <tr>\n",
              "      <th>2021-01-01 02:00:00</th>\n",
              "      <td>26579.75</td>\n",
              "    </tr>\n",
              "    <tr>\n",
              "      <th>2021-01-01 04:00:00</th>\n",
              "      <td>25236.00</td>\n",
              "    </tr>\n",
              "    <tr>\n",
              "      <th>2021-01-01 06:00:00</th>\n",
              "      <td>25792.25</td>\n",
              "    </tr>\n",
              "    <tr>\n",
              "      <th>2021-01-01 08:00:00</th>\n",
              "      <td>28162.75</td>\n",
              "    </tr>\n",
              "    <tr>\n",
              "      <th>...</th>\n",
              "      <td>...</td>\n",
              "    </tr>\n",
              "    <tr>\n",
              "      <th>2023-12-31 16:00:00</th>\n",
              "      <td>34006.00</td>\n",
              "    </tr>\n",
              "    <tr>\n",
              "      <th>2023-12-31 18:00:00</th>\n",
              "      <td>32273.00</td>\n",
              "    </tr>\n",
              "    <tr>\n",
              "      <th>2023-12-31 20:00:00</th>\n",
              "      <td>27456.50</td>\n",
              "    </tr>\n",
              "    <tr>\n",
              "      <th>2023-12-31 22:00:00</th>\n",
              "      <td>24139.25</td>\n",
              "    </tr>\n",
              "    <tr>\n",
              "      <th>2024-01-01 00:00:00</th>\n",
              "      <td>23466.00</td>\n",
              "    </tr>\n",
              "  </tbody>\n",
              "</table>\n",
              "<p>13141 rows × 1 columns</p>\n",
              "</div>\n",
              "    <div class=\"colab-df-buttons\">\n",
              "\n",
              "  <div class=\"colab-df-container\">\n",
              "    <button class=\"colab-df-convert\" onclick=\"convertToInteractive('df-7b82a7c1-1a4d-4903-9df7-f32527dd6352')\"\n",
              "            title=\"Convert this dataframe to an interactive table.\"\n",
              "            style=\"display:none;\">\n",
              "\n",
              "  <svg xmlns=\"http://www.w3.org/2000/svg\" height=\"24px\" viewBox=\"0 -960 960 960\">\n",
              "    <path d=\"M120-120v-720h720v720H120Zm60-500h600v-160H180v160Zm220 220h160v-160H400v160Zm0 220h160v-160H400v160ZM180-400h160v-160H180v160Zm440 0h160v-160H620v160ZM180-180h160v-160H180v160Zm440 0h160v-160H620v160Z\"/>\n",
              "  </svg>\n",
              "    </button>\n",
              "\n",
              "  <style>\n",
              "    .colab-df-container {\n",
              "      display:flex;\n",
              "      gap: 12px;\n",
              "    }\n",
              "\n",
              "    .colab-df-convert {\n",
              "      background-color: #E8F0FE;\n",
              "      border: none;\n",
              "      border-radius: 50%;\n",
              "      cursor: pointer;\n",
              "      display: none;\n",
              "      fill: #1967D2;\n",
              "      height: 32px;\n",
              "      padding: 0 0 0 0;\n",
              "      width: 32px;\n",
              "    }\n",
              "\n",
              "    .colab-df-convert:hover {\n",
              "      background-color: #E2EBFA;\n",
              "      box-shadow: 0px 1px 2px rgba(60, 64, 67, 0.3), 0px 1px 3px 1px rgba(60, 64, 67, 0.15);\n",
              "      fill: #174EA6;\n",
              "    }\n",
              "\n",
              "    .colab-df-buttons div {\n",
              "      margin-bottom: 4px;\n",
              "    }\n",
              "\n",
              "    [theme=dark] .colab-df-convert {\n",
              "      background-color: #3B4455;\n",
              "      fill: #D2E3FC;\n",
              "    }\n",
              "\n",
              "    [theme=dark] .colab-df-convert:hover {\n",
              "      background-color: #434B5C;\n",
              "      box-shadow: 0px 1px 3px 1px rgba(0, 0, 0, 0.15);\n",
              "      filter: drop-shadow(0px 1px 2px rgba(0, 0, 0, 0.3));\n",
              "      fill: #FFFFFF;\n",
              "    }\n",
              "  </style>\n",
              "\n",
              "    <script>\n",
              "      const buttonEl =\n",
              "        document.querySelector('#df-7b82a7c1-1a4d-4903-9df7-f32527dd6352 button.colab-df-convert');\n",
              "      buttonEl.style.display =\n",
              "        google.colab.kernel.accessAllowed ? 'block' : 'none';\n",
              "\n",
              "      async function convertToInteractive(key) {\n",
              "        const element = document.querySelector('#df-7b82a7c1-1a4d-4903-9df7-f32527dd6352');\n",
              "        const dataTable =\n",
              "          await google.colab.kernel.invokeFunction('convertToInteractive',\n",
              "                                                    [key], {});\n",
              "        if (!dataTable) return;\n",
              "\n",
              "        const docLinkHtml = 'Like what you see? Visit the ' +\n",
              "          '<a target=\"_blank\" href=https://colab.research.google.com/notebooks/data_table.ipynb>data table notebook</a>'\n",
              "          + ' to learn more about interactive tables.';\n",
              "        element.innerHTML = '';\n",
              "        dataTable['output_type'] = 'display_data';\n",
              "        await google.colab.output.renderOutput(dataTable, element);\n",
              "        const docLink = document.createElement('div');\n",
              "        docLink.innerHTML = docLinkHtml;\n",
              "        element.appendChild(docLink);\n",
              "      }\n",
              "    </script>\n",
              "  </div>\n",
              "\n",
              "\n",
              "<div id=\"df-118b0dfb-02bc-4e41-b501-d8d65b9007cb\">\n",
              "  <button class=\"colab-df-quickchart\" onclick=\"quickchart('df-118b0dfb-02bc-4e41-b501-d8d65b9007cb')\"\n",
              "            title=\"Suggest charts\"\n",
              "            style=\"display:none;\">\n",
              "\n",
              "<svg xmlns=\"http://www.w3.org/2000/svg\" height=\"24px\"viewBox=\"0 0 24 24\"\n",
              "     width=\"24px\">\n",
              "    <g>\n",
              "        <path d=\"M19 3H5c-1.1 0-2 .9-2 2v14c0 1.1.9 2 2 2h14c1.1 0 2-.9 2-2V5c0-1.1-.9-2-2-2zM9 17H7v-7h2v7zm4 0h-2V7h2v10zm4 0h-2v-4h2v4z\"/>\n",
              "    </g>\n",
              "</svg>\n",
              "  </button>\n",
              "\n",
              "<style>\n",
              "  .colab-df-quickchart {\n",
              "      --bg-color: #E8F0FE;\n",
              "      --fill-color: #1967D2;\n",
              "      --hover-bg-color: #E2EBFA;\n",
              "      --hover-fill-color: #174EA6;\n",
              "      --disabled-fill-color: #AAA;\n",
              "      --disabled-bg-color: #DDD;\n",
              "  }\n",
              "\n",
              "  [theme=dark] .colab-df-quickchart {\n",
              "      --bg-color: #3B4455;\n",
              "      --fill-color: #D2E3FC;\n",
              "      --hover-bg-color: #434B5C;\n",
              "      --hover-fill-color: #FFFFFF;\n",
              "      --disabled-bg-color: #3B4455;\n",
              "      --disabled-fill-color: #666;\n",
              "  }\n",
              "\n",
              "  .colab-df-quickchart {\n",
              "    background-color: var(--bg-color);\n",
              "    border: none;\n",
              "    border-radius: 50%;\n",
              "    cursor: pointer;\n",
              "    display: none;\n",
              "    fill: var(--fill-color);\n",
              "    height: 32px;\n",
              "    padding: 0;\n",
              "    width: 32px;\n",
              "  }\n",
              "\n",
              "  .colab-df-quickchart:hover {\n",
              "    background-color: var(--hover-bg-color);\n",
              "    box-shadow: 0 1px 2px rgba(60, 64, 67, 0.3), 0 1px 3px 1px rgba(60, 64, 67, 0.15);\n",
              "    fill: var(--button-hover-fill-color);\n",
              "  }\n",
              "\n",
              "  .colab-df-quickchart-complete:disabled,\n",
              "  .colab-df-quickchart-complete:disabled:hover {\n",
              "    background-color: var(--disabled-bg-color);\n",
              "    fill: var(--disabled-fill-color);\n",
              "    box-shadow: none;\n",
              "  }\n",
              "\n",
              "  .colab-df-spinner {\n",
              "    border: 2px solid var(--fill-color);\n",
              "    border-color: transparent;\n",
              "    border-bottom-color: var(--fill-color);\n",
              "    animation:\n",
              "      spin 1s steps(1) infinite;\n",
              "  }\n",
              "\n",
              "  @keyframes spin {\n",
              "    0% {\n",
              "      border-color: transparent;\n",
              "      border-bottom-color: var(--fill-color);\n",
              "      border-left-color: var(--fill-color);\n",
              "    }\n",
              "    20% {\n",
              "      border-color: transparent;\n",
              "      border-left-color: var(--fill-color);\n",
              "      border-top-color: var(--fill-color);\n",
              "    }\n",
              "    30% {\n",
              "      border-color: transparent;\n",
              "      border-left-color: var(--fill-color);\n",
              "      border-top-color: var(--fill-color);\n",
              "      border-right-color: var(--fill-color);\n",
              "    }\n",
              "    40% {\n",
              "      border-color: transparent;\n",
              "      border-right-color: var(--fill-color);\n",
              "      border-top-color: var(--fill-color);\n",
              "    }\n",
              "    60% {\n",
              "      border-color: transparent;\n",
              "      border-right-color: var(--fill-color);\n",
              "    }\n",
              "    80% {\n",
              "      border-color: transparent;\n",
              "      border-right-color: var(--fill-color);\n",
              "      border-bottom-color: var(--fill-color);\n",
              "    }\n",
              "    90% {\n",
              "      border-color: transparent;\n",
              "      border-bottom-color: var(--fill-color);\n",
              "    }\n",
              "  }\n",
              "</style>\n",
              "\n",
              "  <script>\n",
              "    async function quickchart(key) {\n",
              "      const quickchartButtonEl =\n",
              "        document.querySelector('#' + key + ' button');\n",
              "      quickchartButtonEl.disabled = true;  // To prevent multiple clicks.\n",
              "      quickchartButtonEl.classList.add('colab-df-spinner');\n",
              "      try {\n",
              "        const charts = await google.colab.kernel.invokeFunction(\n",
              "            'suggestCharts', [key], {});\n",
              "      } catch (error) {\n",
              "        console.error('Error during call to suggestCharts:', error);\n",
              "      }\n",
              "      quickchartButtonEl.classList.remove('colab-df-spinner');\n",
              "      quickchartButtonEl.classList.add('colab-df-quickchart-complete');\n",
              "    }\n",
              "    (() => {\n",
              "      let quickchartButtonEl =\n",
              "        document.querySelector('#df-118b0dfb-02bc-4e41-b501-d8d65b9007cb button');\n",
              "      quickchartButtonEl.style.display =\n",
              "        google.colab.kernel.accessAllowed ? 'block' : 'none';\n",
              "    })();\n",
              "  </script>\n",
              "</div>\n",
              "    </div>\n",
              "  </div>\n"
            ],
            "application/vnd.google.colaboratory.intrinsic+json": {
              "type": "dataframe",
              "variable_name": "df_model_1",
              "summary": "{\n  \"name\": \"df_model_1\",\n  \"rows\": 13141,\n  \"fields\": [\n    {\n      \"column\": \"settlement_date\",\n      \"properties\": {\n        \"dtype\": \"date\",\n        \"min\": \"2021-01-01 00:00:00\",\n        \"max\": \"2024-01-01 00:00:00\",\n        \"num_unique_values\": 13141,\n        \"samples\": [\n          \"2022-05-30 04:00:00\",\n          \"2022-11-07 14:00:00\",\n          \"2021-07-23 22:00:00\"\n        ],\n        \"semantic_type\": \"\",\n        \"description\": \"\"\n      }\n    },\n    {\n      \"column\": \"tsd\",\n      \"properties\": {\n        \"dtype\": \"number\",\n        \"std\": 5648.463148618055,\n        \"min\": 17001.75,\n        \"max\": 46542.5,\n        \"num_unique_values\": 12103,\n        \"samples\": [\n          31465.25,\n          28907.75,\n          27815.25\n        ],\n        \"semantic_type\": \"\",\n        \"description\": \"\"\n      }\n    }\n  ]\n}"
            }
          },
          "metadata": {},
          "execution_count": 329
        }
      ]
    },
    {
      "cell_type": "code",
      "source": [
        "'''\n",
        "Define the variable split_from as 90 multiplied by 12, indicating a train-test split of 90 days.\n",
        "Split the DataFrame df_model_1 into train_data and test_data using the calculated split_from value.\n",
        "'''\n",
        "\n",
        "split_from = 90*12 #train test split is from 90days\n",
        "train_data = df_model_1[:-split_from]\n",
        "test_data = df_model_1[-split_from:]\n"
      ],
      "metadata": {
        "id": "S1g8x24pFxRi"
      },
      "execution_count": null,
      "outputs": []
    },
    {
      "cell_type": "code",
      "source": [
        "'''\n",
        "Instantiate a MinMaxScaler object named scaler with a feature range between 0 and 1.\n",
        "Scale the train_data using the fit_transform method of the scaler object and assign the result to train_scaled.\n",
        "Scale the test_data using the transform method of the scaler object and assign the result to test_scaled.\n",
        "'''\n",
        "\n",
        "scaler = MinMaxScaler(feature_range=(0, 1))\n",
        "train_scaled = scaler.fit_transform(train_data)\n",
        "test_scaled = scaler.transform(test_data)"
      ],
      "metadata": {
        "id": "FK39nLbD1TY_"
      },
      "execution_count": null,
      "outputs": []
    },
    {
      "cell_type": "code",
      "source": [
        "'''\n",
        "Set parameters for LSTM model\n",
        "Set the frequency of the time series data to \"2H\" (2 hours).\n",
        "Define the number of days to predict.\n",
        "Calculate the prediction length by multiplying the days to predict.\n",
        "Set the context length equal to the prediction length.\n",
        "Define the number of epochs for training the model as 12.\n",
        "Set the batch size for training as 64.\n",
        "Define the size of the cell (hidden state) in the recurrent neural network as 256.\n",
        "'''\n",
        "freq = \"2H\"\n",
        "days_to_predict = 7  # days\n",
        "prediction_length = days_to_predict*12  # Based on how many time steps ahead you want to predict\n",
        "context_length = prediction_length\n",
        "epochs = 12\n",
        "batch_size=64\n",
        "cell_size=256"
      ],
      "metadata": {
        "id": "Q1XASkjmHS7I"
      },
      "execution_count": null,
      "outputs": []
    },
    {
      "cell_type": "code",
      "source": [
        "def create_dataset(data, look_back, prediction_length):\n",
        "\n",
        "'''\n",
        "This function prepares the input-output pairs for training an LSTM model.\n",
        "It takes the input time series data, a parameter specifying the number of timesteps to look back (look_back), and the length of the prediction (prediction_length).\n",
        "It creates sequences of input-output pairs from the data, where each input sequence contains look_back timesteps and each output sequence contains prediction_length timesteps.\n",
        "These input-output pairs are used to train the LSTM model for time series forecasting.\n",
        "'''\n",
        "    X, Y = [], []\n",
        "    for i in range(len(data) - look_back - prediction_length + 1):\n",
        "        X.append(data[i:(i + look_back), 0])\n",
        "        Y.append(data[i + look_back:i + look_back + prediction_length, 0])\n",
        "    return np.array(X), np.array(Y).reshape(-1, prediction_length)"
      ],
      "metadata": {
        "id": "RZGlOrMqI1t3"
      },
      "execution_count": null,
      "outputs": []
    },
    {
      "cell_type": "code",
      "source": [
        "'''\n",
        "Prepare training and testing datasets:\n",
        "- Create input-output pairs for training and testing datasets using the create_dataset function defined earlier.\n",
        "- Reshape the input data to be in the format [samples, time steps, features] expected by the LSTM model. Here, features is 1 because we are using univariate time series data.\n",
        "'''\n",
        "\n",
        "X_train, y_train = create_dataset(train_scaled, context_length, prediction_length)\n",
        "X_test, y_test = create_dataset(test_scaled, context_length, prediction_length)\n",
        "# Reshape input to be [samples, time steps, features]\n",
        "X_train = X_train.reshape((X_train.shape[0], X_train.shape[1], 1))\n",
        "X_test = X_test.reshape((X_test.shape[0], X_test.shape[1], 1))"
      ],
      "metadata": {
        "id": "ShpY7zG6QFSW"
      },
      "execution_count": null,
      "outputs": []
    },
    {
      "cell_type": "code",
      "source": [
        "'''\n",
        "Define the LSTM model architecture:\n",
        "- Create a Sequential model.\n",
        "- Add an LSTM layer with 'cell_size' number of units as the first hidden layer.\n",
        "- Add a Dropout layer to prevent overfitting.\n",
        "- Add a Dense layer with 'prediction_length' units as the output layer.\n",
        "- Compile the model using the Adam optimizer and mean squared error loss function.\n",
        "- Set up early stopping callback to monitor validation loss and stop training if no improvement is seen after 5 epochs.\n",
        "'''\n",
        "\n",
        "model_1 = Sequential()\n",
        "model_1.add(LSTM(cell_size,\n",
        "                 #return_sequences=True,\n",
        "                 input_shape=(context_length, 1)))\n",
        "model_1.add(Dropout(0.5))\n",
        "#model_1.add(LSTM(int(cell_size/2)))\n",
        "#model_1.add(Dropout(0.5))\n",
        "model_1.add(Dense(prediction_length))  # Output layer has 'prediction_length' units\n",
        "model_1.compile(optimizer='adam', loss='mean_squared_error')\n",
        "# Early stopping callback\n",
        "early_stopping = EarlyStopping(monitor='val_loss', patience=5, verbose=1)"
      ],
      "metadata": {
        "id": "f5wUvSQk0ZyO"
      },
      "execution_count": null,
      "outputs": []
    },
    {
      "cell_type": "code",
      "source": [
        "'''\n",
        "Train the LSTM model:\n",
        "- Fit the model to the training data.\n",
        "- Set the number of epochs to train ('epochs').\n",
        "- Set the batch size for training ('batch_size').\n",
        "- Specify verbose=1 to display training progress.\n",
        "'''\n",
        "model_1.fit(X_train, y_train, epochs=epochs, batch_size=batch_size, verbose=1, validation_split=0.2, callbacks=[early_stopping])"
      ],
      "metadata": {
        "colab": {
          "base_uri": "https://localhost:8080/"
        },
        "id": "6McyveX32AX6",
        "outputId": "b2109e9c-1901-451b-b930-c8f17df28cb9"
      },
      "execution_count": null,
      "outputs": [
        {
          "output_type": "stream",
          "name": "stdout",
          "text": [
            "Epoch 1/12\n",
            "149/149 [==============================] - 23s 149ms/step - loss: 0.0514 - val_loss: 0.0174\n",
            "Epoch 2/12\n",
            "149/149 [==============================] - 22s 148ms/step - loss: 0.0308 - val_loss: 0.0157\n",
            "Epoch 3/12\n",
            "149/149 [==============================] - 22s 150ms/step - loss: 0.0231 - val_loss: 0.0156\n",
            "Epoch 4/12\n",
            "149/149 [==============================] - 22s 149ms/step - loss: 0.0177 - val_loss: 0.0106\n",
            "Epoch 5/12\n",
            "149/149 [==============================] - 22s 148ms/step - loss: 0.0160 - val_loss: 0.0115\n",
            "Epoch 6/12\n",
            "149/149 [==============================] - 22s 147ms/step - loss: 0.0143 - val_loss: 0.0107\n",
            "Epoch 7/12\n",
            "149/149 [==============================] - 22s 147ms/step - loss: 0.0135 - val_loss: 0.0094\n",
            "Epoch 8/12\n",
            "149/149 [==============================] - 22s 148ms/step - loss: 0.0130 - val_loss: 0.0090\n",
            "Epoch 9/12\n",
            "149/149 [==============================] - 22s 147ms/step - loss: 0.0124 - val_loss: 0.0087\n",
            "Epoch 10/12\n",
            "149/149 [==============================] - 22s 148ms/step - loss: 0.0117 - val_loss: 0.0084\n",
            "Epoch 11/12\n",
            "149/149 [==============================] - 22s 147ms/step - loss: 0.0113 - val_loss: 0.0096\n",
            "Epoch 12/12\n",
            "149/149 [==============================] - 22s 146ms/step - loss: 0.0109 - val_loss: 0.0097\n"
          ]
        },
        {
          "output_type": "execute_result",
          "data": {
            "text/plain": [
              "<keras.src.callbacks.History at 0x798658385720>"
            ]
          },
          "metadata": {},
          "execution_count": 336
        }
      ]
    },
    {
      "cell_type": "code",
      "source": [
        "'''\n",
        "Generate predictions using the trained LSTM model:\n",
        "- Use the trained model_1 to predict the output for the first sequence in the test data.\n",
        "- Store the predictions in the variable 'predictions'.\n",
        "'''\n",
        "predictions = model_1.predict(X_test[:1])"
      ],
      "metadata": {
        "colab": {
          "base_uri": "https://localhost:8080/"
        },
        "id": "n7K6sPa1RGoL",
        "outputId": "a2f53c65-25b9-4335-e06c-7b04580421e7"
      },
      "execution_count": null,
      "outputs": [
        {
          "output_type": "stream",
          "name": "stdout",
          "text": [
            "1/1 [==============================] - 0s 298ms/step\n"
          ]
        }
      ]
    },
    {
      "cell_type": "code",
      "source": [
        "'''\n",
        "Reverse scale the predicted and actual values to their original scale.\n",
        "'''\n",
        "\n",
        "predictions_inverse = scaler.inverse_transform(predictions.reshape(-1, 1))\n",
        "y_test_inverse = scaler.inverse_transform(y_test[:1].reshape(-1, 1))"
      ],
      "metadata": {
        "id": "RVUQiifN1oiT"
      },
      "execution_count": null,
      "outputs": []
    },
    {
      "cell_type": "code",
      "source": [
        "'''\n",
        "Create DataFrames for the predicted and actual values:\n",
        "- Use the 'predictions_inverse' array to create a DataFrame named 'forecast_df' with the predicted values. Set the index of this DataFrame to 'date_range'.\n",
        "- Similarly, create a DataFrame named 'test_df' for the actual values using the 'y_test_inverse' array and set its index to 'date_range'.\n",
        "'''\n",
        "start_index = test_data.index[0]\n",
        "date_range = pd.date_range(start=start_index, periods=len(predictions_inverse), freq='2H')\n",
        "forecast_df = pd.DataFrame(predictions_inverse, index=date_range, columns=['Predicted'])\n",
        "test_df = pd.DataFrame(y_test_inverse, index=date_range, columns=['Actual'])"
      ],
      "metadata": {
        "id": "RCPuFiQg8K4h"
      },
      "execution_count": null,
      "outputs": []
    },
    {
      "cell_type": "code",
      "source": [
        "'''\n",
        "Calculate and print evaluation metrics for model_1\n",
        "'''\n",
        "mape_1 = mean_absolute_percentage_error(test_df[\"Actual\"], forecast_df[\"Predicted\"])\n",
        "rmse_1 = root_mean_squared_error(test_df[\"Actual\"], forecast_df[\"Predicted\"])\n",
        "rsquared_1 = r_squared(test_df[\"Actual\"], forecast_df[\"Predicted\"])\n",
        "print(f\"MAPE without regressors: {round(mape_1,7)}\")\n",
        "print(f\"RMSE without regressors: {round(rmse_1,7)}\")\n",
        "print(f\"R-squared without regressors: {round(rsquared_1,7)}\")"
      ],
      "metadata": {
        "colab": {
          "base_uri": "https://localhost:8080/"
        },
        "id": "mlo1Cq_RKCGQ",
        "outputId": "2f2c1b42-f5e4-4fbb-ddb6-4c4cb2d0d345"
      },
      "execution_count": null,
      "outputs": [
        {
          "output_type": "stream",
          "name": "stdout",
          "text": [
            "MAPE without regressors: 0.091312\n",
            "RMSE without regressors: 2866.5448825\n",
            "R-squared without regressors: 0.5919214\n"
          ]
        }
      ]
    },
    {
      "cell_type": "code",
      "source": [
        "def forecast_plot(predictions,y_test, days):\n",
        "'''\n",
        "Functiobn for plotting the forecasted and actual values:\n",
        "- Plot the predicted values with a green line and label \"Predictions\".\n",
        "- Scatter plot the actual values with orange color and label \"Actual\".\n",
        "- Set the title of the plot as \"LSTM Forecast {days} days\", where {days} is the number of days to predict.\n",
        "- Label the x-axis as \"Date\" and the y-axis as \"MGW\".\n",
        "- Display a legend to differentiate between predicted and actual values.\n",
        "- Show the plot.\n",
        "'''\n",
        "  plt.figure(figsize=(14, 4))\n",
        "  plt.plot(predictions.index, predictions[\"Predicted\"], label='Predictions',color=\"green\")\n",
        "  plt.scatter(y_test.index, y_test[\"Actual\"], label='Actual',color=\"orange\")\n",
        "  plt.title(f'LSTM Forecast {days} days')\n",
        "  plt.xlabel('Date')\n",
        "  plt.ylabel('MGW')\n",
        "  plt.legend()\n",
        "  plt.show()\n",
        "\n",
        "forecast_plot(forecast_df,test_df,days_to_predict)"
      ],
      "metadata": {
        "colab": {
          "base_uri": "https://localhost:8080/",
          "height": 410
        },
        "id": "TIE8QujtKyI4",
        "outputId": "1f9de1d0-7166-47eb-bdbb-24b23579c105"
      },
      "execution_count": null,
      "outputs": [
        {
          "output_type": "display_data",
          "data": {
            "text/plain": [
              "<Figure size 1400x400 with 1 Axes>"
            ],
            "image/png": "[encoded data removed]"
          },
          "metadata": {}
        }
      ]
    },
    {
      "cell_type": "markdown",
      "source": [
        "model 2 with holiday"
      ],
      "metadata": {
        "id": "49oZFUpf920S"
      }
    },
    {
      "cell_type": "code",
      "source": [
        "'''\n",
        "Create a DataFrame containing the target variable 'tsd' and the feature 'is_holiday':\n",
        "- Select the columns \"tsd\", \"settlement_date\", and \"is_holiday\" from df_merged.\n",
        "- Set the index of the DataFrame to \"settlement_date\".\n",
        "Split the data into training and testing sets:\n",
        "'''\n",
        "\n",
        "df_model_2 = df_merged[[\"tsd\",\"settlement_date\",\"is_holiday\"]]\n",
        "df_model_2= df_model_2.set_index(\"settlement_date\")\n",
        "\n",
        "train_data_2 = df_model_2[:-split_from]\n",
        "test_data_2 = df_model_2[-split_from:]"
      ],
      "metadata": {
        "id": "UJSci7rk-d34"
      },
      "execution_count": null,
      "outputs": []
    },
    {
      "cell_type": "code",
      "source": [
        "'''\n",
        "Scale the features using MinMaxScaler:\n",
        "'''\n",
        "\n",
        "scaler = MinMaxScaler(feature_range=(0, 1))\n",
        "train_scaled = scaler.fit_transform(train_data_2)\n",
        "test_scaled = scaler.transform(test_data_2)"
      ],
      "metadata": {
        "id": "qm-EC7dp-nsN"
      },
      "execution_count": null,
      "outputs": []
    },
    {
      "cell_type": "code",
      "source": [
        "# Data preparation for LSTM\n",
        "def create_dataset(data, look_back, prediction_length):\n",
        "'''\n",
        "Define a function to create datasets suitable for LSTM training:\n",
        "- The function takes 'data' (scaled features), 'look_back' (number of time steps to look back), and 'prediction_length' (number of time steps to predict) as input.\n",
        "- Initialize empty lists X and Y to store input-output pairs.\n",
        "- Loop through the data to create input-output pairs:\n",
        "  - For each time step 'i', create an input sequence of length 'look_back' containing all features.\n",
        "  - Create an output sequence of length 'prediction_length' containing only the 'tsd' values.\n",
        "- Convert lists X and Y into numpy arrays and reshape Y to have the appropriate shape.\n",
        "- Return the input sequences X and output sequences Y.\n",
        "'''\n",
        "    X, Y = [], []\n",
        "    for i in range(len(data) - look_back - prediction_length + 1):\n",
        "        # X includes all features (here tsd and is_holiday)\n",
        "        X.append(data[i:(i + look_back), :])  # Assuming multiple features including 'tsd' and 'is_holiday'\n",
        "        # Y includes only the 'tsd' values which we are predicting\n",
        "        Y.append(data[i + look_back:i + look_back + prediction_length, 0])  # '0' assuming 'tsd' is at position 0\n",
        "    return np.array(X), np.array(Y).reshape(-1, prediction_length)\n"
      ],
      "metadata": {
        "id": "De31HW-Z-rTd"
      },
      "execution_count": null,
      "outputs": []
    },
    {
      "cell_type": "code",
      "source": [
        "'''\n",
        "Create datasets for LSTM training using the defined function:\n",
        "- Call the 'create_dataset' function with 'train_scaled', 'context_length', and 'prediction_length' to create training input-output pairs.\n",
        "- Call the 'create_dataset' function with 'test_scaled', 'context_length', and 'prediction_length' to create testing input-output pairs.\n",
        "- Store the input sequences and output sequences for training and testing in variables X_train, y_train, X_test, and y_test, respectively.\n",
        "'''\n",
        "X_train, y_train = create_dataset(train_scaled, context_length, prediction_length)\n",
        "X_test, y_test = create_dataset(test_scaled, context_length, prediction_length)"
      ],
      "metadata": {
        "id": "mUa08mBN-tZc"
      },
      "execution_count": null,
      "outputs": []
    },
    {
      "cell_type": "code",
      "source": [
        "'''\n",
        "Build the LSTM model_2 for electricity load forecasting including holiday regressors:\n",
        "- Create a Sequential model instance.\n",
        "- Add an LSTM layer with 'cell_size' units, specifying input shape as (context_length, number of features).\n",
        "- Add a Dropout layer with dropout rate of 0.5 to prevent overfitting.\n",
        "- Add a Dense layer with 'prediction_length' units for output.\n",
        "- Compile the model using Adam optimizer and mean squared error loss.\n",
        "- Define an EarlyStopping callback to monitor validation loss and stop training if it doesn't improve for 5 epochs.\n",
        "'''\n",
        "\n",
        "model_2 = Sequential()\n",
        "model_2.add(LSTM(cell_size,\n",
        "                 #return_sequences=True,\n",
        "                 input_shape=(context_length,train_data_2.shape[1])))\n",
        "model_2.add(Dropout(0.5))\n",
        "#model_2.add(LSTM(int(cell_size/2)))\n",
        "#model_2.add(Dropout(0.5))\n",
        "model_2.add(Dense(prediction_length))\n",
        "model_2.compile(optimizer='adam', loss='mean_squared_error')\n",
        "early_stopping = EarlyStopping(monitor='val_loss', patience=5, verbose=1)\n"
      ],
      "metadata": {
        "id": "0yMnlAma-vYC"
      },
      "execution_count": null,
      "outputs": []
    },
    {
      "cell_type": "code",
      "source": [
        "'''\n",
        "Train the LSTM model_2:\n",
        "- Fit the model to the training data (X_train, y_train).\n",
        "- Specify the number of epochs, batch size, and validation split.\n",
        "- Include the EarlyStopping callback to monitor validation loss and stop training if it doesn't improve for 5 epochs.\n",
        "'''\n",
        "\n",
        "model_2.fit(X_train, y_train, epochs=epochs, batch_size=batch_size, verbose=1, validation_split=0.2, callbacks=[early_stopping])\n"
      ],
      "metadata": {
        "colab": {
          "base_uri": "https://localhost:8080/"
        },
        "id": "7qNgownE-4fx",
        "outputId": "fcf509a7-47cc-4645-f4f4-52af77030a39"
      },
      "execution_count": null,
      "outputs": [
        {
          "output_type": "stream",
          "name": "stdout",
          "text": [
            "Epoch 1/12\n",
            "149/149 [==============================] - 23s 148ms/step - loss: 0.0495 - val_loss: 0.0176\n",
            "Epoch 2/12\n",
            "149/149 [==============================] - 22s 145ms/step - loss: 0.0306 - val_loss: 0.0174\n",
            "Epoch 3/12\n",
            "149/149 [==============================] - 22s 146ms/step - loss: 0.0211 - val_loss: 0.0110\n",
            "Epoch 4/12\n",
            "149/149 [==============================] - 22s 146ms/step - loss: 0.0168 - val_loss: 0.0111\n",
            "Epoch 5/12\n",
            "149/149 [==============================] - 22s 149ms/step - loss: 0.0150 - val_loss: 0.0092\n",
            "Epoch 6/12\n",
            "149/149 [==============================] - 22s 147ms/step - loss: 0.0137 - val_loss: 0.0098\n",
            "Epoch 7/12\n",
            "149/149 [==============================] - 22s 146ms/step - loss: 0.0132 - val_loss: 0.0096\n",
            "Epoch 8/12\n",
            "149/149 [==============================] - 22s 146ms/step - loss: 0.0127 - val_loss: 0.0086\n",
            "Epoch 9/12\n",
            "149/149 [==============================] - 22s 146ms/step - loss: 0.0120 - val_loss: 0.0090\n",
            "Epoch 10/12\n",
            "149/149 [==============================] - 22s 145ms/step - loss: 0.0114 - val_loss: 0.0081\n",
            "Epoch 11/12\n",
            "149/149 [==============================] - 22s 145ms/step - loss: 0.0109 - val_loss: 0.0087\n",
            "Epoch 12/12\n",
            "149/149 [==============================] - 22s 144ms/step - loss: 0.0104 - val_loss: 0.0078\n"
          ]
        },
        {
          "output_type": "execute_result",
          "data": {
            "text/plain": [
              "<keras.src.callbacks.History at 0x798628130eb0>"
            ]
          },
          "metadata": {},
          "execution_count": 347
        }
      ]
    },
    {
      "cell_type": "code",
      "source": [
        "'''\n",
        "Make predictions using the trained LSTM model_2:\n",
        "- Predict the first sequence of test data (X_test[:1]).\n",
        "'''\n",
        "predictions_2 = model_2.predict(X_test[:1])"
      ],
      "metadata": {
        "colab": {
          "base_uri": "https://localhost:8080/"
        },
        "id": "aNm3fkgP--I-",
        "outputId": "b425b3a5-1a67-4a5d-8db0-605de61b7fad"
      },
      "execution_count": null,
      "outputs": [
        {
          "output_type": "stream",
          "name": "stdout",
          "text": [
            "1/1 [==============================] - 0s 297ms/step\n"
          ]
        }
      ]
    },
    {
      "cell_type": "code",
      "source": [
        "'''\n",
        "Flatten the predictions array to prepare for inverse scaling and stacking with zeros array.\n",
        "Create a zeros array with the same shape as the flattened predictions for the second feature columns.\n",
        "Stack the flattened predictions and zeros array column-wise to ensure proper inverse scaling.\n",
        "Inverse transform the combined array, selecting only the first column representing the 'tsd' feature.\n",
        "Repeat the same process for the y_test data, ensuring proper reshaping and inverse scaling.\n",
        "'''\n",
        "predictions_flattened = predictions_2.flatten()\n",
        "zeros_array = np.zeros_like(predictions_flattened)  # Create a zeros array that matches the shape of predictions_flattened\n",
        "\n",
        "# Stack the arrays column-wise for inverse transformation\n",
        "combined_array = np.column_stack((predictions_flattened, zeros_array))\n",
        "\n",
        "# Inverse transform the predictions\n",
        "predictions_inverse = scaler.inverse_transform(combined_array)[:, 0]\n",
        "\n",
        "y_test_flattened = y_test[:1].flatten()\n",
        "zeros_array_y_test = np.zeros_like(y_test_flattened)\n",
        "\n",
        "# Stack and inverse transform the actual y_test data\n",
        "combined_array_y_test = np.column_stack((y_test_flattened, zeros_array_y_test))\n",
        "y_test_inverse = scaler.inverse_transform(combined_array_y_test)[:, 0]"
      ],
      "metadata": {
        "id": "CXKTr5Eq_EP4"
      },
      "execution_count": null,
      "outputs": []
    },
    {
      "cell_type": "code",
      "source": [
        "'''\n",
        "Define the start index for the date range as the first index of the test data.\n",
        "Create a date range with a frequency of 2 hours and a length matching the length of predictions_inverse.\n",
        "Construct a DataFrame containing the predicted values with the date range as index and column name 'Predicted'.\n",
        "Similarly, create a DataFrame for the actual values (y_test_inverse) with the same date range and column name 'Actual'.\n",
        "'''\n",
        "start_index = test_data_2.index[0]\n",
        "date_range = pd.date_range(start=start_index, periods=len(predictions_inverse), freq='2H')\n",
        "forecast_df_2 = pd.DataFrame(predictions_inverse, index=date_range, columns=['Predicted'])\n",
        "test_df_2 = pd.DataFrame(y_test_inverse, index=date_range, columns=['Actual'])"
      ],
      "metadata": {
        "id": "IbbL0BJm_K0J"
      },
      "execution_count": null,
      "outputs": []
    },
    {
      "cell_type": "code",
      "source": [
        "'''\n",
        "Calculate Mean Absolute Percentage Error (MAPE), Root Mean Squared Error (RMSE), and R-squared values for the LSTM model_2 with holidays included.\n",
        "'''\n",
        "mape_2 = mean_absolute_percentage_error(test_df_2[\"Actual\"], forecast_df_2[\"Predicted\"])\n",
        "rmse_2 = root_mean_squared_error(test_df_2[\"Actual\"], forecast_df_2[\"Predicted\"])\n",
        "rsquared_2 = r_squared(test_df_2[\"Actual\"], forecast_df_2[\"Predicted\"])\n",
        "print(f\"MAPE with holiday: {round(mape_2,7)}\")\n",
        "print(f\"RMSE with holiday: {round(rmse_2,7)}\")\n",
        "print(f\"R-squared with holiday: {round(rsquared_2,7)}\")"
      ],
      "metadata": {
        "colab": {
          "base_uri": "https://localhost:8080/"
        },
        "id": "Nfgakwjp_VkW",
        "outputId": "9a33df2a-2bcc-4dff-a94a-4d580e4ad8ce"
      },
      "execution_count": null,
      "outputs": [
        {
          "output_type": "stream",
          "name": "stdout",
          "text": [
            "MAPE with holiday: 0.0787709\n",
            "RMSE with holiday: 2596.5121136\n",
            "R-squared with holiday: 0.6651833\n"
          ]
        }
      ]
    },
    {
      "cell_type": "code",
      "source": [
        "'''\n",
        "Generate a forecast plot for the LSTM model_2 with holidays included.\n",
        "The plot will display the predicted and actual values for the specified number of days.\n",
        "'''\n",
        "forecast_plot(forecast_df_2,test_df_2,days_to_predict)"
      ],
      "metadata": {
        "colab": {
          "base_uri": "https://localhost:8080/",
          "height": 410
        },
        "id": "Omgvh17pB_0f",
        "outputId": "182c900b-f12a-4229-9200-edbb11665194"
      },
      "execution_count": null,
      "outputs": [
        {
          "output_type": "display_data",
          "data": {
            "text/plain": [
              "<Figure size 1400x400 with 1 Axes>"
            ],
            "image/png": "[encoded data removed]"
          },
          "metadata": {}
        }
      ]
    },
    {
      "cell_type": "markdown",
      "source": [
        "model 3 with holiday and temp"
      ],
      "metadata": {
        "id": "kDsAlRJOCCgg"
      }
    },
    {
      "cell_type": "code",
      "source": [
        "'''\n",
        "Prepare the data for the LSTM model_3 including both weather data and holiday indicators.\n",
        "Split train and test datasets\n",
        "'''\n",
        "\n",
        "df_model_3 = df_merged[[\"tsd\",\"settlement_date\",\"is_holiday\",\"temp\"]]\n",
        "df_model_3= df_model_3.set_index(\"settlement_date\")\n",
        "\n",
        "train_data_3 = df_model_3[:-split_from]\n",
        "test_data_3 = df_model_3[-split_from:]"
      ],
      "metadata": {
        "id": "dbca8lCFCCMN"
      },
      "execution_count": null,
      "outputs": []
    },
    {
      "cell_type": "code",
      "source": [
        "'''\n",
        "Scale the data using MinMaxScaler to ensure all features are within the range [0, 1].\n",
        "'''\n",
        "scaler_3 = MinMaxScaler(feature_range=(0, 1))\n",
        "train_scaled_3 = scaler_3.fit_transform(train_data_3)\n",
        "test_scaled_3 = scaler_3.transform(test_data_3)"
      ],
      "metadata": {
        "id": "G6fAxJvPCXwf"
      },
      "execution_count": null,
      "outputs": []
    },
    {
      "cell_type": "code",
      "source": [
        "'''\n",
        "Define a function create_dataset to prepare the data for LSTM training.\n",
        "The function takes input data, look_back (context length), and prediction_length as parameters.\n",
        "It iterates over the input data to create input-output pairs for the LSTM model.\n",
        "It returns two arrays X and Y, where X contains input sequences with all features, and Y contains output sequences for 'tsd' only.\n",
        "'''\n",
        "def create_dataset(data, look_back, prediction_length):\n",
        "    X, Y = [], []\n",
        "    for i in range(len(data) - look_back - prediction_length + 1):\n",
        "        X.append(data[i:(i + look_back), :])  # Include all features\n",
        "        Y.append(data[i + look_back:i + look_back + prediction_length, 0])  # Only 'tsd' as output\n",
        "    return np.array(X), np.array(Y).reshape(-1, prediction_length)"
      ],
      "metadata": {
        "id": "Hj19wJU1JpP-"
      },
      "execution_count": null,
      "outputs": []
    },
    {
      "cell_type": "code",
      "source": [
        "'''\n",
        "Prepare the training and testing data for LSTM training using the create_dataset function defined earlier.\n",
        "Create input-output pairs for the LSTM model using the training and testing data.\n",
        "Reshape the input data to match the input shape required by LSTM.\n",
        "'''\n",
        "\n",
        "X_train_3, y_train_3 = create_dataset(train_scaled_3, context_length, prediction_length)\n",
        "X_test_3, y_test_3 = create_dataset(test_scaled_3, context_length, prediction_length)\n",
        "\n",
        "# Reshape for LSTM\n",
        "X_train_3 = X_train_3.reshape((X_train_3.shape[0], X_train_3.shape[1], train_data_3.shape[1]))\n",
        "X_test_3 = X_test_3.reshape((X_test_3.shape[0], X_test_3.shape[1], train_data_3.shape[1]))"
      ],
      "metadata": {
        "id": "R08aV6x3Jt7z"
      },
      "execution_count": null,
      "outputs": []
    },
    {
      "cell_type": "code",
      "source": [
        "'''\n",
        "Create the LSTM model_3 for training includes holiday and temp.\n",
        "Add an LSTM layer with the specified cell size and input shape.\n",
        "Add a dropout layer to prevent overfitting.\n",
        "Add a dense output layer with units equal to the prediction length.\n",
        "Compile the model using the Adam optimizer and mean squared error loss.\n",
        "Define early stopping to monitor validation loss and stop training if it does not improve for a certain number of epochs.\n",
        "'''\n",
        "model_3 = Sequential()\n",
        "model_3.add(LSTM(cell_size,\n",
        "                 #return_sequences=True,\n",
        "                 input_shape=(context_length, train_data_3.shape[1])))\n",
        "model_3.add(Dropout(0.5))\n",
        "#model_3.add(LSTM(int(cell_size/2)))\n",
        "#model_3.add(Dropout(0.5))\n",
        "model_3.add(Dense(prediction_length))\n",
        "model_3.compile(optimizer='adam', loss='mean_squared_error')\n",
        "early_stopping = EarlyStopping(monitor='val_loss', patience=5, verbose=1)\n"
      ],
      "metadata": {
        "id": "Jzm8vqPlJwg_"
      },
      "execution_count": null,
      "outputs": []
    },
    {
      "cell_type": "code",
      "source": [
        "'''\n",
        "Train the LSTM model_3 using the training data.\n",
        "'''\n",
        "model_3.fit(X_train_3, y_train_3, epochs=epochs, batch_size=batch_size, verbose=1, validation_split=0.2, callbacks=[early_stopping])"
      ],
      "metadata": {
        "colab": {
          "base_uri": "https://localhost:8080/"
        },
        "id": "CvCAaY16J1w0",
        "outputId": "46793bc2-8ae0-4521-a42b-dca84fd4c13d"
      },
      "execution_count": null,
      "outputs": [
        {
          "output_type": "stream",
          "name": "stdout",
          "text": [
            "Epoch 1/12\n",
            "149/149 [==============================] - 23s 149ms/step - loss: 0.0454 - val_loss: 0.0161\n",
            "Epoch 2/12\n",
            "149/149 [==============================] - 22s 145ms/step - loss: 0.0254 - val_loss: 0.0133\n",
            "Epoch 3/12\n",
            "149/149 [==============================] - 21s 144ms/step - loss: 0.0174 - val_loss: 0.0131\n",
            "Epoch 4/12\n",
            "149/149 [==============================] - 22s 145ms/step - loss: 0.0155 - val_loss: 0.0119\n",
            "Epoch 5/12\n",
            "149/149 [==============================] - 21s 144ms/step - loss: 0.0139 - val_loss: 0.0109\n",
            "Epoch 6/12\n",
            "149/149 [==============================] - 21s 144ms/step - loss: 0.0133 - val_loss: 0.0106\n",
            "Epoch 7/12\n",
            "149/149 [==============================] - 22s 146ms/step - loss: 0.0125 - val_loss: 0.0098\n",
            "Epoch 8/12\n",
            "149/149 [==============================] - 22s 145ms/step - loss: 0.0122 - val_loss: 0.0089\n",
            "Epoch 9/12\n",
            "149/149 [==============================] - 22s 145ms/step - loss: 0.0114 - val_loss: 0.0086\n",
            "Epoch 10/12\n",
            "149/149 [==============================] - 22s 145ms/step - loss: 0.0107 - val_loss: 0.0074\n",
            "Epoch 11/12\n",
            "149/149 [==============================] - 22s 145ms/step - loss: 0.0102 - val_loss: 0.0074\n",
            "Epoch 12/12\n",
            "149/149 [==============================] - 21s 144ms/step - loss: 0.0099 - val_loss: 0.0078\n"
          ]
        },
        {
          "output_type": "execute_result",
          "data": {
            "text/plain": [
              "<keras.src.callbacks.History at 0x79860f1c7b20>"
            ]
          },
          "metadata": {},
          "execution_count": 358
        }
      ]
    },
    {
      "cell_type": "code",
      "source": [
        "'''\n",
        "Predict using the trained LSTM model_3 on the test data.\n",
        "Flatten the predictions array to match the shape for inverse transformation.\n",
        "Calculate the number of additional features (excluding the target variable).\n",
        "Create a zeros array with the same shape as the additional features.\n",
        "Combine the predictions with the zeros array for inverse transformation.\n",
        "Inverse transform the predictions using the scaler.\n",
        "Repeat the process for the flattened y_test data.\n",
        "'''\n",
        "predictions_3 = model_3.predict(X_test_3[:1])\n",
        "predictions_3_flat = predictions_3.flatten()\n",
        "num_features = train_data_3.shape[1] - 1\n",
        "\n",
        "# Create a zeros array that has the correct shape\n",
        "zeros_array = np.zeros((len(predictions_3_flat), num_features))\n",
        "\n",
        "# Combine the predictions with the zeros array for inverse transformation\n",
        "predictions_combined = np.c_[predictions_3_flat, zeros_array]\n",
        "\n",
        "# Inverse transform the predictions\n",
        "predictions_inverse_3 = scaler_3.inverse_transform(predictions_combined)[:, 0]\n",
        "\n",
        "# The same process for y_test_3\n",
        "y_test_3_flat = y_test_3[:1].flatten()  # Make sure this flattening matches the dimension expectation\n",
        "zeros_array_y_test = np.zeros((len(y_test_3_flat), num_features))\n",
        "y_test_combined = np.c_[y_test_3_flat, zeros_array_y_test]\n",
        "\n",
        "# Inverse transform y_test\n",
        "y_test_inverse_3 = scaler_3.inverse_transform(y_test_combined)[:, 0]"
      ],
      "metadata": {
        "colab": {
          "base_uri": "https://localhost:8080/"
        },
        "id": "l9MSjjewKAO8",
        "outputId": "03287366-dfe4-432c-8d59-4f98f0baf33c"
      },
      "execution_count": null,
      "outputs": [
        {
          "output_type": "stream",
          "name": "stdout",
          "text": [
            "1/1 [==============================] - 0s 274ms/step\n"
          ]
        }
      ]
    },
    {
      "cell_type": "code",
      "source": [
        "'''\n",
        "Define the start index for the forecast DataFrame based on the first index of the test data.\n",
        "Create a date range for the forecast based on the length of the predictions, with a frequency of 2 hours.\n",
        "Create a DataFrame for the forecast with the predicted values, using the date range as index.\n",
        "Create a DataFrame for the actual values with the y_test_inverse_3 values and the same date range as index.\n",
        "'''\n",
        "\n",
        "start_index_3 = test_data_3.index[0]\n",
        "date_range_3 = pd.date_range(start=start_index_3, periods=len(predictions_inverse_3), freq='2H')\n",
        "forecast_df_3 = pd.DataFrame(predictions_inverse_3, index=date_range_3, columns=['Predicted'])\n",
        "test_df_3 = pd.DataFrame(y_test_inverse_3, index=date_range_3, columns=['Actual'])"
      ],
      "metadata": {
        "id": "MQtMFys8KEMk"
      },
      "execution_count": null,
      "outputs": []
    },
    {
      "cell_type": "code",
      "source": [
        "'''\n",
        "Calculate Mean Absolute Percentage Error (MAPE), Root Mean Squared Error (RMSE), and R-squared values for the LSTM model_3 with holidays and temp included.\n",
        "'''\n",
        "mape_3 = mean_absolute_percentage_error(test_df_3[\"Actual\"], forecast_df_3[\"Predicted\"])\n",
        "rmse_3 = root_mean_squared_error(test_df_3[\"Actual\"], forecast_df_3[\"Predicted\"])\n",
        "rsquared_3 = r_squared(test_df_3[\"Actual\"], forecast_df_3[\"Predicted\"])\n",
        "print(f\"MAPE with holiday and temp: {round(mape_3,7)}\")\n",
        "print(f\"RMSE with holiday and temp: {round(rmse_3,7)}\")\n",
        "print(f\"R-squared with holiday and temp: {round(rsquared_3,7)}\")"
      ],
      "metadata": {
        "colab": {
          "base_uri": "https://localhost:8080/"
        },
        "id": "Pu0mvKQbKHwl",
        "outputId": "c32d3de8-c086-49b5-97fd-779410f19a34"
      },
      "execution_count": null,
      "outputs": [
        {
          "output_type": "stream",
          "name": "stdout",
          "text": [
            "MAPE with holiday and temp: 0.0709087\n",
            "RMSE with holiday and temp: 2449.3693677\n",
            "R-squared with holiday and temp: 0.7020558\n"
          ]
        }
      ]
    },
    {
      "cell_type": "code",
      "source": [
        "'''\n",
        "Generate a forecast plot for the LSTM model_3 with holidays and temp included.\n",
        "The plot will display the predicted and actual values for the specified number of days.\n",
        "'''\n",
        "forecast_plot(forecast_df_3,test_df_3,days_to_predict)"
      ],
      "metadata": {
        "colab": {
          "base_uri": "https://localhost:8080/",
          "height": 410
        },
        "id": "sxU48z7DKTkW",
        "outputId": "fda2cb0e-5e93-4bfa-e087-003811f81ee8"
      },
      "execution_count": null,
      "outputs": [
        {
          "output_type": "display_data",
          "data": {
            "text/plain": [
              "<Figure size 1400x400 with 1 Axes>"
            ],
            "image/png": "[encoded data removed]"
          },
          "metadata": {}
        }
      ]
    }
  ]
}